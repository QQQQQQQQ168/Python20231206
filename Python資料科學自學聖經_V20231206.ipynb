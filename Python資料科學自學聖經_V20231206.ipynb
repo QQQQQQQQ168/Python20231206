{
  "nbformat": 4,
  "nbformat_minor": 0,
  "metadata": {
    "colab": {
      "private_outputs": true,
      "provenance": [],
      "toc_visible": true,
      "name": "Python資料科學自學聖經_V20231206.ipynb"
    },
    "kernelspec": {
      "name": "python3",
      "display_name": "Python 3"
    },
    "language_info": {
      "name": "python"
    }
  },
  "cells": [
    {
      "cell_type": "markdown",
      "source": [
        "Chapter 2 資料科學神器：\n",
        "Numpy and Pandas\n"
      ],
      "metadata": {
        "id": "v5iW8PwxlO9E"
      }
    },
    {
      "cell_type": "code",
      "source": [
        "# 2.1\n",
        "\n",
        "# 2.1.1 Install Numpy\n",
        "\n",
        "!pip install numpy\n",
        "import numpy as np"
      ],
      "metadata": {
        "id": "Q2PAqsK1lhQE"
      },
      "execution_count": null,
      "outputs": []
    },
    {
      "cell_type": "code",
      "source": [
        "# 2.1.2 認識 Numpy 陣列\n",
        "\n",
        "\"\"\"\n",
        "Numpy 使用 ndarray (N-dimensional array) 陣列取代Python 串列資料。\n",
        "\n",
        "維度：ndim\n",
        "大小：shape\n",
        "資料型態：dtype\n",
        "\n",
        "\"\"\"\n",
        "\n",
        "\"\"\"\n",
        "1維陣列： col數量 => shape(col數量)\n",
        "\n",
        "2維陣列： row數量 -> col數量 => shape(row數量, col數量)\n",
        "\n",
        "3維陣列： 矩陣數量 -> row數量 -> col數量 => shape(矩陣數量, row數量, col數量)\n",
        "\"\"\"\n"
      ],
      "metadata": {
        "id": "xDEIQGWTl2rt"
      },
      "execution_count": null,
      "outputs": []
    },
    {
      "cell_type": "code",
      "source": [
        "# 2.2 Numpy 陣列建立"
      ],
      "metadata": {
        "id": "jzARu4PrnPUO"
      },
      "execution_count": null,
      "outputs": []
    },
    {
      "cell_type": "code",
      "source": [
        "# 2.2.1 建立基本陣列\n",
        "\n",
        "# 建立陣列： numpy.array()\n",
        "\n",
        "import numpy as np\n",
        "\n",
        "# use list [.....]\n",
        "p1 = [1, 2, 3, 4, 5]\n",
        "\n",
        "# use tuple (.....)\n",
        "p2 = (6, 7, 8, 9, 10)\n",
        "\n",
        "\n",
        "print(f\"the type of p1 is {type(p1)} -> {p1}\")\n",
        "print(f\"the type of p2 is {type(p2)} -> {p2}\")\n",
        "print(\"\\n\")\n",
        "\n",
        "# Numpy 使用 ndarray (N-dimensional array) 陣列取代Python 串列資料。\n",
        "# Numpy 將傳入資料皆轉成 ndarray 資料型態\n",
        "np1 = np.array(p1)\n",
        "np2 = np.array(p2)\n",
        "\n",
        "print(f\"the type of np1 is {type(np1)} -> {np1}\")\n",
        "print(f\"the type of np2 is {type(np2)} -> {np2}\")\n",
        "#\n"
      ],
      "metadata": {
        "id": "zYPDFRhQnVtm"
      },
      "execution_count": null,
      "outputs": []
    },
    {
      "cell_type": "code",
      "source": [
        "# 建立有序整數陣列： numpy.arange(起始值, 終止值, 間隔值)\n",
        "\n",
        "\"\"\"\n",
        "import numpy as np\n",
        "np.arange([起始值, ] 終止值[, 間隔值])\n",
        "預設起始值=0 、間隔值=1、\n",
        "終止值 -> 指到終止值前，不包含終止值\n",
        "\"\"\"\n",
        "\n",
        "\n",
        "\n",
        "import numpy as np\n",
        "\n",
        "# numpy.arange(起始值, 終止值, 間隔值)\n",
        "\n",
        "# 0 - 30, 間隔 2\n",
        "na = np.arange(0, 31, 2)\n",
        "print(f\"na = 0-30,間隔2 = {na}\")\n",
        "\n",
        "# 3 - 66, 間隔 3\n",
        "nb = np.arange(3, 67, 3)\n",
        "print(f\"nb = 3-66,間隔3 = {nb}\")\n",
        "print(type(nb))\n"
      ],
      "metadata": {
        "id": "T5PmkNz5r5bw"
      },
      "execution_count": null,
      "outputs": []
    },
    {
      "cell_type": "code",
      "source": [
        "# 建立等距陣列：numpy.linspace()\n",
        "\n",
        "\"\"\"\n",
        "numpy.linspace(起始值, 終止值, 元素個數)\n",
        "此函數返回值陣列元素的資料型態 -> float\n",
        "\"\"\"\n",
        "import numpy as np\n",
        "\n",
        "# numpy.linspace(起始值, 終止值, 元素個數)\n",
        "\n",
        "# 建立1-15間等距的3個元素所組成陣列\n",
        "na = np.linspace(1, 15, 3)\n",
        "\n",
        "print(f\"建立1-15間等距的3個元素所組成陣列 = na = {na}\")\n"
      ],
      "metadata": {
        "id": "UXXqo8dICrDD"
      },
      "execution_count": null,
      "outputs": []
    },
    {
      "cell_type": "code",
      "source": [
        "# 建立同值為0的陣列：numpy.zeros()\n",
        "\n",
        "\"\"\"\n",
        "numpy.zeros(陣列形狀)\n",
        "-> 根據設定的形狀建立元素全部是0的陣列\n",
        "\"\"\"\n",
        "\n",
        "import numpy as np\n",
        "\n",
        "nz = np.zeros((5,))\n",
        "\n",
        "print(nz)\n"
      ],
      "metadata": {
        "id": "oU9E1Y__Emhs"
      },
      "execution_count": null,
      "outputs": []
    },
    {
      "cell_type": "code",
      "source": [
        "# 建立同值為1的陣列：numpy.ones()\n",
        "\n",
        "\"\"\"\n",
        "numpy.ones(陣列形狀)\n",
        "-> 根據設定的形狀建立元素全部是1的陣列\n",
        "\"\"\"\n",
        "\n",
        "import numpy as np\n",
        "\n",
        "no = np.ones((5,))\n",
        "print(no)\n"
      ],
      "metadata": {
        "id": "G-0HUYrGFnT2"
      },
      "execution_count": null,
      "outputs": []
    },
    {
      "cell_type": "code",
      "source": [
        "# 2.2.2 建立多維陣列\n",
        "\n",
        "\"\"\"\n",
        "numpy.array() 建立多為陣列\n",
        "屬性\n",
        "ndim -> 顯示陣列維度\n",
        "shape -> 顯示陣列維度形狀\n",
        "size -> 顯示陣列內所有的元素數量\n",
        "\n",
        "python的容器型態：\n",
        "list = 清單或串列 = [element1, ...]\n",
        "tuple = 元組或序對 = (element1, ...)\n",
        "dict = 字典 = {'word':'apple', ...}\n",
        "set = 集合 = {1, 2, 3,...}\n",
        "\"\"\"\n",
        "\n",
        "# 用多維串列建立2x5 (2 row 5 col) 陣列\n",
        "\n",
        "import numpy as np\n",
        "\n",
        "lst1 = [1, 2, 3, 4, 5]\n",
        "lst2 = [6, 7, 8, 9, 10]\n",
        "list_data = [lst1, lst2]\n",
        "print(list_data)\n",
        "print(f\"2x5陣列 = list_data = {list_data}\")\n",
        "print(f\"the type of list_data is {type(list_data)}\")\n",
        "print(\"\\n\")\n",
        "\n",
        "na = np.array(list_data)\n",
        "print(f\"na = np.array(list_data) = {na}\")\n",
        "print(f\"type of na is {type(na)}\")\n",
        "\n",
        "# ndim -> 顯示陣列維度\n",
        "print(f\"the dimension (by ndim) of na is {na.ndim}\")\n",
        "\n",
        "# shape -> 顯示陣列維度形狀\n",
        "print(f\"the shape (by shape) of na is {na.shape}\")\n",
        "\n",
        "# size -> 顯示陣列內所有的元素數量\n",
        "print(f\"the size (by size) of na is {na.size}\")"
      ],
      "metadata": {
        "id": "1Dk22PVyGE9L"
      },
      "execution_count": null,
      "outputs": []
    },
    {
      "cell_type": "code",
      "source": [
        "# 2.2.3 改變陣列形狀： reshape()\n",
        "\n",
        "\"\"\"\n",
        "快速建立多維陣列：\n",
        "先建立1維陣列\n",
        "-> 利用 reshape()函式 -> 改變陣列形狀(shape)\n",
        "\"\"\"\n",
        "\n",
        "\"\"\"\n",
        "建立 1 x 16 之 1維陣列\n",
        "再利用 reshape()函式改變成 4 x 4 的2維陣列\n",
        "\"\"\"\n",
        "\n",
        "import numpy as np\n",
        "\n",
        "# 利用 numpy.arange(起始值, 終止值, 間隔值) 建立 1 x 16 陣列\n",
        "\n",
        "n1_dim = np.arange(1, 17, 1)\n",
        "print(f\"建立1x16陣列 = n1_dim = {n1_dim}\")\n",
        "print(f\"n1_dim維度：{n1_dim.ndim}\")\n",
        "print(f\"the shape of n1_dim：{n1_dim.shape}\")\n",
        "print(f\"the size of n1_dim: {n1_dim.size}\")\n",
        "print(\"\\n\")\n",
        "\n",
        "# 利用 numpy.reshape(row, col) 改變成 4 x 4 的2維陣列\n",
        "n2_dim = n1_dim.reshape(4, 4)\n",
        "print(f\"改變成 4 x 4 的2維陣列 = n2_dim = {n2_dim}\")\n",
        "print(f\"the dimension of n2_dim = {n2_dim.ndim}\")\n",
        "print(f\"the shape of n2_dim = {n2_dim.shape}\")\n",
        "print(f\"the size of n2_dim = {n2_dim.size}\")\n",
        "\n"
      ],
      "metadata": {
        "id": "odm-ETXzOICs"
      },
      "execution_count": null,
      "outputs": []
    },
    {
      "cell_type": "code",
      "source": [
        "# 2.3 Numpy 陣列取值"
      ],
      "metadata": {
        "id": "ib3VSTB5XUyk"
      },
      "execution_count": null,
      "outputs": []
    },
    {
      "cell_type": "code",
      "source": [
        "# 2.3.1 一維陣列取值\n",
        "\n",
        "\"\"\"\n",
        "\n",
        "1維陣列中元素排列的順序就是取值方式，\n",
        "順序就是索引\n",
        "\n",
        "1維陣列變數[索引]\n",
        "\n",
        "1維陣列變數[起始索引：終止索引[:間隔值]]\n",
        "\n",
        "\"\"\"\n",
        "\n",
        "import numpy as np\n",
        "\n",
        "# 利用 numpy.arange(start, end, step) 產生 0-5 的整數數列\n",
        "na = np.arange(0, 6)\n",
        "print(f\"the list of na = {na}\")\n",
        "print(\"\\n\")\n",
        "\n",
        "# for 變數in range(起始值, 終止值, 增/減量)\n",
        "for i in range(0, 6, 1):\n",
        "  print(f\"na[{i}] = {na[i]}\")\n",
        "\n",
        "print(\"\\n\")\n",
        "print(f\"na[1:5] = {na[1:5]}\")\n",
        "print(f\"na[1:5:2] = {na[1:5:2]}\")\n",
        "print(f\"na[5:1:-1] = {na[5:1:-1]}\")\n",
        "print(f\"na[:] = {na[:]}\")\n",
        "print(f\"na[:3] = {na[:3]}\")\n",
        "print(f\"na[3:] = {na[3:]}\")"
      ],
      "metadata": {
        "id": "bFKbx6xFXaI5"
      },
      "execution_count": null,
      "outputs": []
    },
    {
      "cell_type": "code",
      "source": [
        "# 2.3.2 多維陣列取值\n",
        "\"\"\"\n",
        "多維陣列取值\n",
        "-> 以 row 及 col 中索引或索引範圍取值\n",
        "\"\"\"\n",
        "\n",
        "# 建立 4x4 陣列\n",
        "# 利用 .arange(start, end, step) 建立1維陣列，再用 .reshape(row,  col)轉成4x4陣列\n",
        "\n",
        "import numpy as np\n",
        "\n",
        "# 利用 .arange(start, end, step) 建立1維陣列，再用 .reshape(row,  col)轉成4x4陣列\n",
        "na = np.arange(1,17,1).reshape(4,4)\n",
        "print(\"4x4陣列 = na = \"+\"\\n\"+f\"{na}\")\n",
        "print(\"\\n\")\n",
        "\n",
        "\n",
        "# 1、以座標方式取值 -> Array[row, col]\n",
        "\n",
        "for i in range(0,4,1):    # for 變數in range(起始值, 終止值, 增/減量)\n",
        "  for j in range(0,4,1):\n",
        "    print(f\"na[{i},{j}] = {na[i,j]}\")\n",
        "\n",
        "print(\"\\n\")\n",
        "\n",
        "# 2、以 row 及 col 的索引範圍來娶值\n",
        "print(f\"na[1,1:3] = {na[1,1:3]}\")\n",
        "print(f\"na[1:3,2] = {na[1:3,2]}\")\n",
        "print(f\"na[1:3,1:3] = {na[1:3,1:3]}\")\n",
        "print(f\"na[::2, ::2] = {na[::2, ::2]}\")\n",
        "print(f\"na[:,2] = {na[:,2]}\")\n",
        "print(f\"na[1,:] = {na[1,:]}\")\n",
        "print(f\"na[:,:] = {na[:,:]}\")"
      ],
      "metadata": {
        "id": "L6YUiG7BcBjo"
      },
      "execution_count": null,
      "outputs": []
    },
    {
      "cell_type": "code",
      "source": [
        "# 2.3.3 產生隨機資料：numpy.random()\n",
        "\n",
        "\"\"\"\n",
        "numpy.random.rand(d0, d1 .... dn)：依設定維度(d0)、形狀，返回0~1之間的隨機浮點數資料。\n",
        "\n",
        "numpy.random.randn(d0, d1 ... dn)：依設定維度(d0)、形狀，返回標準常態分佈的隨機浮點數資料。\n",
        "\n",
        "numpy.randint(最低[,最高,size])：依設定值範圍(包含最低，不包含最高)返回隨機整數資料，size可設定返回資料的維度形狀。\n",
        "\n",
        "numpy.random(size)\n",
        "numpy.random_sample(size)\n",
        "numpy.random.sample(size)\n",
        "-> 依設定維度形狀size返回隨機資料，返回0-1之間的隨機浮點數資料。\n",
        "\n",
        "choice(陣列，size[，replace])\n",
        "->\n",
        "在指定的陣列中取值，依設定的維度形狀size返回隨即資料；\n",
        "陣列若是整數時，結果為 arange(整數)設定陣列；\n",
        "replace=False會返回不重複的資料\n",
        "\n",
        "\"\"\"\n",
        "\n",
        "import numpy as np\n",
        "\n",
        "# numpy.random.rand(d0, d1 .... dn)\n",
        "# 產生 2x3 0-1間的隨機浮點數\n",
        "msg1 = \"1、產生2x3 0-1間的隨機浮點數：\"+\"\\n\"+f\"{np.random.rand(2,3)}\"+\"\\n\"\n",
        "print(msg1)\n",
        "\n",
        "# numpy.random.randn(d0, d1 .... dn)\n",
        "# 產生 2x3 常態分佈的隨機浮點數\n",
        "msg2 = \"2、產生 2x3 常態分佈的隨機浮點數：\"+\"\\n\"+f\"{np.random.randn(2,3)}\"+\"\\n\"\n",
        "print(msg2)\n",
        "\n",
        "# numpy.random.randint(最低，最高，[size])\n",
        "# 產生 0-4 (不含5) 隨機整數 -> 0 or 1 or 2 or 3 or 4\n",
        "msg3 = \"3、產生 0-4 (不含5) 隨機整數：\" + f\"{np.random.randint(5)}\" +\"\\n\"\n",
        "print(msg3)\n",
        "\n",
        "# numpy.random.randint(最低，最高，[size])\n",
        "# 產生 2-4 (不含5) 5個隨機整數\n",
        "msg4 = \"4、產生 2-4 (不含5) 5個隨機整數： \" + f\"{np.random.randint(2,5,[5])}\" + \"\\n\"\n",
        "print(msg4)\n",
        "\n",
        "# numpy.random.random(size)；numpy.random.random_sample(size)；numpy.random.sample(size)\n",
        "# 產生3個0-1間的隨機浮點數\n",
        "msg5 = \"5、產生3個0-1間的隨機浮點數： \" + \"\\n\"\n",
        "msg5 += f\"{np.random.random(3)}\" + \"\\n\"\n",
        "msg5 += f\"{np.random.random_sample(3)}\" + \"\\n\"\n",
        "msg5 += f\"{np.random.sample(3)}\"\n",
        "print(msg5)\n"
      ],
      "metadata": {
        "id": "4edpoSgJ_noL"
      },
      "execution_count": null,
      "outputs": []
    },
    {
      "cell_type": "code",
      "source": [
        "# 2.3.4 Numpy 讀取 CSV 檔案\n",
        "\n",
        "\"\"\"\n",
        "Numpy 可以使用 numpy.genfromtxt() 函式讀取檔案，將內容轉化為陣列，語法如下：\n",
        "\n",
        "numpy.genfromtxt(檔案名稱， delimiter=分隔符號， skip_header=略過列數)\n",
        "\"\"\"\n",
        "\n",
        "import numpy as np\n",
        "\n",
        "!wget https://raw.githubusercontent.com/QQQQQQQQ168/Python_DataScience_Bible/main/Example/ch02/scores.csv\n",
        "\n",
        "na = np.genfromtxt('scores.csv', delimiter=',', skip_header=1)\n",
        "\n",
        "print(na.shape)\n"
      ],
      "metadata": {
        "id": "l2C7J3_oYrnz"
      },
      "execution_count": null,
      "outputs": []
    },
    {
      "cell_type": "code",
      "source": [
        "# 2.4 Numpy 的陣列運算功能"
      ],
      "metadata": {
        "id": "VorBmbgUbIGD"
      },
      "execution_count": null,
      "outputs": []
    },
    {
      "cell_type": "code",
      "source": [
        "# 2.4.1 Numpy 陣列運算\n"
      ],
      "metadata": {
        "id": "PYerjh8qbPs9"
      },
      "execution_count": null,
      "outputs": []
    }
  ]
}